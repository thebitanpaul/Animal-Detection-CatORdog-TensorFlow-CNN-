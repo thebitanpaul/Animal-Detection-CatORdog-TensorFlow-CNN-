{
 "cells": [
  {
   "cell_type": "code",
   "execution_count": 1,
   "id": "cf012789",
   "metadata": {},
   "outputs": [
    {
     "data": {
      "text/plain": [
       "'2.8.0'"
      ]
     },
     "execution_count": 1,
     "metadata": {},
     "output_type": "execute_result"
    }
   ],
   "source": [
    "from keras.preprocessing.image import ImageDataGenerator\n",
    "import tensorflow as tf\n",
    "tf.__version__"
   ]
  },
  {
   "cell_type": "code",
   "execution_count": 8,
   "id": "f66a5c14",
   "metadata": {},
   "outputs": [],
   "source": [
    "train_idg = ImageDataGenerator(\n",
    "    shear_range=0.2,\n",
    "    zoom_range=0.2,\n",
    "    horizontal_flip=True,\n",
    "    vertical_flip=True,\n",
    "    rescale=1./255\n",
    ")"
   ]
  },
  {
   "cell_type": "code",
   "execution_count": 11,
   "id": "ecc67a10",
   "metadata": {},
   "outputs": [
    {
     "name": "stdout",
     "output_type": "stream",
     "text": [
      "Found 8000 images belonging to 2 classes.\n"
     ]
    }
   ],
   "source": [
    "train_set = train_idg.flow_from_directory(\n",
    "    '/Users/bitanpaul/Documents/Academics/ML/Projects/Supervised/CNN/Section 40 - Convolutional Neural Networks (CNN)/dataset/training_set',\n",
    "    target_size=(64, 64),\n",
    "    class_mode='binary',\n",
    "    batch_size=32\n",
    "    )"
   ]
  },
  {
   "cell_type": "code",
   "execution_count": 6,
   "id": "ad977169",
   "metadata": {},
   "outputs": [
    {
     "name": "stdout",
     "output_type": "stream",
     "text": [
      "Found 2000 images belonging to 2 classes.\n"
     ]
    }
   ],
   "source": [
    "test_idg = ImageDataGenerator(rescale=1./255)\n",
    "\n",
    "test_set = test_idg.flow_from_directory(\n",
    "    '/Users/bitanpaul/Documents/Academics/ML/Projects/Supervised/CNN/Section 40 - Convolutional Neural Networks (CNN)/dataset/test_set',\n",
    "    target_size=(64, 64),\n",
    "    class_mode='binary',\n",
    "    batch_size=32\n",
    ")"
   ]
  },
  {
   "cell_type": "code",
   "execution_count": 12,
   "id": "0433c673",
   "metadata": {},
   "outputs": [],
   "source": [
    "cnn = tf.keras.models.Sequential()"
   ]
  },
  {
   "cell_type": "code",
   "execution_count": 13,
   "id": "203b4d10",
   "metadata": {},
   "outputs": [],
   "source": [
    "cnn.add(tf.keras.layers.Conv2D(filters=32, kernel_size=3, activation='relu', input_shape=[64, 64, 3]))\n",
    "cnn.add(tf.keras.layers.MaxPool2D(pool_size=2, strides=2))"
   ]
  },
  {
   "cell_type": "code",
   "execution_count": 14,
   "id": "9117f870",
   "metadata": {},
   "outputs": [],
   "source": [
    "cnn.add(tf.keras.layers.Conv2D(filters=32, kernel_size=3, activation='relu',))\n",
    "cnn.add(tf.keras.layers.MaxPool2D(pool_size=2, strides=2))"
   ]
  },
  {
   "cell_type": "code",
   "execution_count": 15,
   "id": "9d68729b",
   "metadata": {},
   "outputs": [],
   "source": [
    "cnn.add(tf.keras.layers.Flatten())"
   ]
  },
  {
   "cell_type": "code",
   "execution_count": 16,
   "id": "23f08983",
   "metadata": {},
   "outputs": [],
   "source": [
    "cnn.add(tf.keras.layers.Dense(units=128, activation='relu'))"
   ]
  },
  {
   "cell_type": "code",
   "execution_count": 17,
   "id": "cb6a3b11",
   "metadata": {},
   "outputs": [],
   "source": [
    "cnn.add(tf.keras.layers.Dense(units=1, activation='sigmoid'))"
   ]
  },
  {
   "cell_type": "code",
   "execution_count": 19,
   "id": "50a1c791",
   "metadata": {},
   "outputs": [],
   "source": [
    "cnn.compile(optimizer='adam', loss='binary_crossentropy', metrics=['accuracy'])"
   ]
  },
  {
   "cell_type": "code",
   "execution_count": 20,
   "id": "f4b5140f",
   "metadata": {},
   "outputs": [
    {
     "name": "stdout",
     "output_type": "stream",
     "text": [
      "Epoch 1/25\n",
      "250/250 [==============================] - 87s 347ms/step - loss: 0.6808 - accuracy: 0.5675 - val_loss: 0.6785 - val_accuracy: 0.5590\n",
      "Epoch 2/25\n",
      "250/250 [==============================] - 77s 307ms/step - loss: 0.6281 - accuracy: 0.6506 - val_loss: 0.6105 - val_accuracy: 0.6795\n",
      "Epoch 3/25\n",
      "250/250 [==============================] - 75s 302ms/step - loss: 0.6118 - accuracy: 0.6610 - val_loss: 0.5877 - val_accuracy: 0.6950\n",
      "Epoch 4/25\n",
      "250/250 [==============================] - 74s 297ms/step - loss: 0.5925 - accuracy: 0.6795 - val_loss: 0.5753 - val_accuracy: 0.7030\n",
      "Epoch 5/25\n",
      "250/250 [==============================] - 75s 300ms/step - loss: 0.5718 - accuracy: 0.6948 - val_loss: 0.5853 - val_accuracy: 0.6835\n",
      "Epoch 6/25\n",
      "250/250 [==============================] - 77s 308ms/step - loss: 0.5693 - accuracy: 0.6974 - val_loss: 0.5308 - val_accuracy: 0.7350\n",
      "Epoch 7/25\n",
      "250/250 [==============================] - 74s 296ms/step - loss: 0.5577 - accuracy: 0.7113 - val_loss: 0.5246 - val_accuracy: 0.7395\n",
      "Epoch 8/25\n",
      "250/250 [==============================] - 76s 302ms/step - loss: 0.5381 - accuracy: 0.7246 - val_loss: 0.5215 - val_accuracy: 0.7460\n",
      "Epoch 9/25\n",
      "250/250 [==============================] - 76s 304ms/step - loss: 0.5307 - accuracy: 0.7345 - val_loss: 0.5197 - val_accuracy: 0.7380\n",
      "Epoch 10/25\n",
      "250/250 [==============================] - 79s 316ms/step - loss: 0.5239 - accuracy: 0.7365 - val_loss: 0.5273 - val_accuracy: 0.7240\n",
      "Epoch 11/25\n",
      "250/250 [==============================] - 83s 330ms/step - loss: 0.5145 - accuracy: 0.7450 - val_loss: 0.4925 - val_accuracy: 0.7630\n",
      "Epoch 12/25\n",
      "250/250 [==============================] - 72s 290ms/step - loss: 0.5087 - accuracy: 0.7480 - val_loss: 0.4807 - val_accuracy: 0.7655\n",
      "Epoch 13/25\n",
      "250/250 [==============================] - 75s 298ms/step - loss: 0.4942 - accuracy: 0.7571 - val_loss: 0.5026 - val_accuracy: 0.7460\n",
      "Epoch 14/25\n",
      "250/250 [==============================] - 72s 288ms/step - loss: 0.4878 - accuracy: 0.7638 - val_loss: 0.5076 - val_accuracy: 0.7660\n",
      "Epoch 15/25\n",
      "250/250 [==============================] - 74s 296ms/step - loss: 0.4779 - accuracy: 0.7666 - val_loss: 0.5044 - val_accuracy: 0.7440\n",
      "Epoch 16/25\n",
      "250/250 [==============================] - 74s 296ms/step - loss: 0.4642 - accuracy: 0.7824 - val_loss: 0.4824 - val_accuracy: 0.7705\n",
      "Epoch 17/25\n",
      "250/250 [==============================] - 73s 291ms/step - loss: 0.4659 - accuracy: 0.7804 - val_loss: 0.4880 - val_accuracy: 0.7770\n",
      "Epoch 18/25\n",
      "250/250 [==============================] - 75s 300ms/step - loss: 0.4596 - accuracy: 0.7741 - val_loss: 0.4949 - val_accuracy: 0.7675\n",
      "Epoch 19/25\n",
      "250/250 [==============================] - 75s 298ms/step - loss: 0.4517 - accuracy: 0.7874 - val_loss: 0.5148 - val_accuracy: 0.7480\n",
      "Epoch 20/25\n",
      "250/250 [==============================] - 75s 299ms/step - loss: 0.4425 - accuracy: 0.7920 - val_loss: 0.5177 - val_accuracy: 0.7510\n",
      "Epoch 21/25\n",
      "250/250 [==============================] - 77s 309ms/step - loss: 0.4381 - accuracy: 0.7944 - val_loss: 0.5208 - val_accuracy: 0.7450\n",
      "Epoch 22/25\n",
      "250/250 [==============================] - 75s 298ms/step - loss: 0.4300 - accuracy: 0.8000 - val_loss: 0.4685 - val_accuracy: 0.7845\n",
      "Epoch 23/25\n",
      "250/250 [==============================] - 75s 298ms/step - loss: 0.4297 - accuracy: 0.7962 - val_loss: 0.5946 - val_accuracy: 0.7160\n",
      "Epoch 24/25\n",
      "250/250 [==============================] - 75s 300ms/step - loss: 0.4170 - accuracy: 0.8098 - val_loss: 0.5166 - val_accuracy: 0.7590\n",
      "Epoch 25/25\n",
      "250/250 [==============================] - 78s 309ms/step - loss: 0.4164 - accuracy: 0.8066 - val_loss: 0.4747 - val_accuracy: 0.7755\n"
     ]
    },
    {
     "data": {
      "text/plain": [
       "<keras.callbacks.History at 0x7fe8a772dc40>"
      ]
     },
     "execution_count": 20,
     "metadata": {},
     "output_type": "execute_result"
    }
   ],
   "source": [
    "cnn.fit(x=train_set, validation_data=test_set, epochs=25)"
   ]
  },
  {
   "cell_type": "code",
   "execution_count": 24,
   "id": "5ed3d2c8",
   "metadata": {},
   "outputs": [
    {
     "name": "stdout",
     "output_type": "stream",
     "text": [
      "dog\n"
     ]
    }
   ],
   "source": [
    "import numpy as np\n",
    "from keras.preprocessing import image\n",
    "test_img = image.load_img('/Users/bitanpaul/Documents/Academics/ML/Projects/Supervised/CNN/Section 40 - Convolutional Neural Networks (CNN)/dataset/single_prediction/cat_or_dog_1.jpg', target_size=(64, 64))\n",
    "test_img = image.img_to_array(test_img)\n",
    "test_img = np.expand_dims(test_img, axis=0)\n",
    "result = cnn.predict(test_img)\n",
    "train_set.class_indices\n",
    "if result [0][0] == 1:\n",
    "  prediction = 'dog'\n",
    "else:\n",
    "  prediction = 'cat'\n",
    "\n",
    "print(prediction)"
   ]
  },
  {
   "cell_type": "code",
   "execution_count": 26,
   "id": "94744954",
   "metadata": {},
   "outputs": [
    {
     "name": "stdout",
     "output_type": "stream",
     "text": [
      "dog\n"
     ]
    }
   ],
   "source": [
    "import numpy as np\n",
    "from keras.preprocessing import image\n",
    "test_img = image.load_img('/Users/bitanpaul/Documents/Academics/ML/Projects/Supervised/CNN/Section 40 - Convolutional Neural Networks (CNN)/dataset/single_prediction/new_dog.jpg', target_size=(64, 64))\n",
    "test_img = image.img_to_array(test_img)\n",
    "test_img = np.expand_dims(test_img, axis=0)\n",
    "result = cnn.predict(test_img)\n",
    "train_set.class_indices\n",
    "if result [0][0] == 1:\n",
    "  prediction = 'dog'\n",
    "else:\n",
    "  prediction = 'cat'\n",
    "\n",
    "print(prediction)"
   ]
  },
  {
   "cell_type": "code",
   "execution_count": 29,
   "id": "f4212320",
   "metadata": {},
   "outputs": [
    {
     "name": "stdout",
     "output_type": "stream",
     "text": [
      "dog\n"
     ]
    }
   ],
   "source": [
    "import numpy as np\n",
    "from keras.preprocessing import image\n",
    "test_img = image.load_img('/Users/bitanpaul/Documents/Academics/ML/Projects/Supervised/CNN/Section 40 - Convolutional Neural Networks (CNN)/dataset/single_prediction/new_cat.jpg', target_size=(64, 64))\n",
    "test_img = image.img_to_array(test_img)\n",
    "test_img = np.expand_dims(test_img, axis=0)\n",
    "result = cnn.predict(test_img)\n",
    "train_set.class_indices\n",
    "if result [0][0] == 1:\n",
    "  prediction = 'dog'\n",
    "else:\n",
    "  prediction = 'cat'\n",
    "\n",
    "print(prediction)"
   ]
  },
  {
   "cell_type": "code",
   "execution_count": null,
   "id": "a48c123c",
   "metadata": {},
   "outputs": [],
   "source": []
  },
  {
   "cell_type": "code",
   "execution_count": null,
   "id": "1967871a",
   "metadata": {},
   "outputs": [],
   "source": []
  }
 ],
 "metadata": {
  "kernelspec": {
   "display_name": "Python 3",
   "language": "python",
   "name": "python3"
  },
  "language_info": {
   "codemirror_mode": {
    "name": "ipython",
    "version": 3
   },
   "file_extension": ".py",
   "mimetype": "text/x-python",
   "name": "python",
   "nbconvert_exporter": "python",
   "pygments_lexer": "ipython3",
   "version": "3.8.8"
  }
 },
 "nbformat": 4,
 "nbformat_minor": 5
}
